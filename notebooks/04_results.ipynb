{
 "cells": [
  {
   "cell_type": "markdown",
   "id": "dfdb633b",
   "metadata": {},
   "source": [
    "# Imports"
   ]
  },
  {
   "cell_type": "code",
   "execution_count": 1,
   "id": "76e5d608",
   "metadata": {},
   "outputs": [],
   "source": [
    "# ============================================================================\n",
    "# 04_results.py\n",
    "# Loads and visualizes results from 03_modeling.py\n",
    "# Includes model comparison, ROC/PR curves, confusion matrices, feature importance, and DCA\n",
    "# ============================================================================\n",
    "\n",
    "import joblib\n",
    "import pandas as pd\n",
    "import numpy as np\n",
    "import matplotlib.pyplot as plt\n",
    "import seaborn as sns\n",
    "from sklearn.metrics import classification_report, confusion_matrix, roc_curve, precision_recall_curve, auc\n",
    "from pathlib import Path"
   ]
  },
  {
   "cell_type": "markdown",
   "id": "448712e6",
   "metadata": {},
   "source": [
    "# Load Models and Results"
   ]
  },
  {
   "cell_type": "code",
   "execution_count": 3,
   "id": "c78abd6c",
   "metadata": {},
   "outputs": [
    {
     "name": "stdout",
     "output_type": "stream",
     "text": [
      "================================================================================\n",
      "LOAD MODELS AND RESULTS\n",
      "================================================================================\n",
      "Loaded models: ['Random Forest', 'XGBoost', 'Logistic Regression', 'Neural Network', 'SVM', 'K-Nearest Neighbors', 'Decision Tree', 'Naive Bayes']\n",
      "Test labels shape: (45895,)\n"
     ]
    }
   ],
   "source": [
    "# ============================================================================\n",
    "# 1. LOAD MODELS AND RESULTS\n",
    "# ============================================================================\n",
    "print(\"=\"*80)\n",
    "print(\"LOAD MODELS AND RESULTS\")\n",
    "print(\"=\"*80)\n",
    "\n",
    "# Festgelegter Pfad zu deinem models-Ordner\n",
    "models_dir = Path(r\"C:\\Users\\Eyyub\\Desktop\\StackFuel\\PortfolioProjekt\\DPP-Stackfuel-Data-Science-Projekt\\models\")\n",
    "\n",
    "# Lade die gespeicherten Modell-Ergebnisse\n",
    "model_results = joblib.load(models_dir / \"model_results.pkl\")\n",
    "\n",
    "# Lade die einzelnen Modelle (nach Name)\n",
    "models = {}\n",
    "for model_name in model_results.keys():\n",
    "    model_path = models_dir / f\"{model_name.replace(' ', '_')}_model.pkl\"\n",
    "    models[model_name] = joblib.load(model_path)\n",
    "\n",
    "# Lade die Test-Labels\n",
    "target_test = joblib.load(models_dir / \"target_test.pkl\")\n",
    "\n",
    "print(f\"Loaded models: {list(models.keys())}\")\n",
    "print(f\"Test labels shape: {target_test.shape}\")\n"
   ]
  }
 ],
 "metadata": {
  "kernelspec": {
   "display_name": "dpp (3.12.11)",
   "language": "python",
   "name": "python3"
  },
  "language_info": {
   "codemirror_mode": {
    "name": "ipython",
    "version": 3
   },
   "file_extension": ".py",
   "mimetype": "text/x-python",
   "name": "python",
   "nbconvert_exporter": "python",
   "pygments_lexer": "ipython3",
   "version": "3.12.11"
  }
 },
 "nbformat": 4,
 "nbformat_minor": 5
}
