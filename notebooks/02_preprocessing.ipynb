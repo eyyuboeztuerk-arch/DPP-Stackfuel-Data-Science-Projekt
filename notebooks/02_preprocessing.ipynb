{
 "cells": [
  {
   "cell_type": "markdown",
   "id": "c83e1f2f",
   "metadata": {},
   "source": [
    "# Imports"
   ]
  },
  {
   "cell_type": "code",
   "execution_count": 11,
   "id": "970eb1e9",
   "metadata": {},
   "outputs": [],
   "source": [
    "# ============================================================================\n",
    "# 02_preprocessing.ipynb\n",
    "# Preprocessing pipeline for Diabetes Binary Classification\n",
    "# Dataset: BRFSS 2015 - Diabetes Health Indicators\n",
    "# ============================================================================\n",
    "import os\n",
    "import pandas as pd\n",
    "from sklearn.model_selection import train_test_split\n",
    "from sklearn.preprocessing import StandardScaler, RobustScaler\n",
    "from sklearn.impute import SimpleImputer\n",
    "from sklearn.pipeline import Pipeline\n",
    "from sklearn.compose import ColumnTransformer\n",
    "from imblearn.over_sampling import SMOTE\n",
    "import warnings\n",
    "warnings.filterwarnings('ignore')\n"
   ]
  },
  {
   "cell_type": "markdown",
   "id": "a0598cd5",
   "metadata": {},
   "source": [
    "# Data Loading"
   ]
  },
  {
   "cell_type": "code",
   "execution_count": 12,
   "id": "3c32bdd6",
   "metadata": {},
   "outputs": [
    {
     "name": "stdout",
     "output_type": "stream",
     "text": [
      "================================================================================\n",
      "DATA LOADING\n",
      "================================================================================\n",
      "\n",
      "Dataset shape: (253680, 22)\n",
      "Number of records: 253,680\n",
      "Number of features: 22\n",
      "\n",
      "First few rows:\n",
      "   Diabetes_binary  HighBP  HighChol  CholCheck   BMI  Smoker  Stroke  \\\n",
      "0              0.0     1.0       1.0        1.0  40.0     1.0     0.0   \n",
      "1              0.0     0.0       0.0        0.0  25.0     1.0     0.0   \n",
      "2              0.0     1.0       1.0        1.0  28.0     0.0     0.0   \n",
      "3              0.0     1.0       0.0        1.0  27.0     0.0     0.0   \n",
      "4              0.0     1.0       1.0        1.0  24.0     0.0     0.0   \n",
      "\n",
      "   HeartDiseaseorAttack  PhysActivity  Fruits  ...  AnyHealthcare  \\\n",
      "0                   0.0           0.0     0.0  ...            1.0   \n",
      "1                   0.0           1.0     0.0  ...            0.0   \n",
      "2                   0.0           0.0     1.0  ...            1.0   \n",
      "3                   0.0           1.0     1.0  ...            1.0   \n",
      "4                   0.0           1.0     1.0  ...            1.0   \n",
      "\n",
      "   NoDocbcCost  GenHlth  MentHlth  PhysHlth  DiffWalk  Sex   Age  Education  \\\n",
      "0          0.0      5.0      18.0      15.0       1.0  0.0   9.0        4.0   \n",
      "1          1.0      3.0       0.0       0.0       0.0  0.0   7.0        6.0   \n",
      "2          1.0      5.0      30.0      30.0       1.0  0.0   9.0        4.0   \n",
      "3          0.0      2.0       0.0       0.0       0.0  0.0  11.0        3.0   \n",
      "4          0.0      2.0       3.0       0.0       0.0  0.0  11.0        5.0   \n",
      "\n",
      "   Income  \n",
      "0     3.0  \n",
      "1     1.0  \n",
      "2     8.0  \n",
      "3     6.0  \n",
      "4     4.0  \n",
      "\n",
      "[5 rows x 22 columns]\n"
     ]
    }
   ],
   "source": [
    "# ============================================================================\n",
    "# 2. DATA LOADING\n",
    "# ============================================================================\n",
    "print(\"=\"*80)\n",
    "print(\"DATA LOADING\")\n",
    "print(\"=\"*80)\n",
    "\n",
    "dataset_link = \"alexteboul/diabetes-health-indicators-dataset\"  # correct Kaggle dataset handle\n",
    "destination = \"../data/raw\"\n",
    "dataset_name = dataset_link.split(\"/\")[-1]\n",
    "\n",
    "files = os.listdir(f\"{destination}/{dataset_name}\")\n",
    "df = pd.read_csv(f\"{destination}/{dataset_name}/{files[2]}\", delimiter=\",\")\n",
    "\n",
    "print(f\"\\nDataset shape: {df.shape}\")\n",
    "print(f\"Number of records: {df.shape[0]:,}\")\n",
    "print(f\"Number of features: {df.shape[1]}\")\n",
    "\n",
    "print(\"\\nFirst few rows:\")\n",
    "print(df.head())"
   ]
  },
  {
   "cell_type": "markdown",
   "id": "84d69e92",
   "metadata": {},
   "source": [
    "# Data Cleaning"
   ]
  },
  {
   "cell_type": "code",
   "execution_count": 13,
   "id": "ae562ba1",
   "metadata": {},
   "outputs": [
    {
     "name": "stdout",
     "output_type": "stream",
     "text": [
      "\n",
      "================================================================================\n",
      "DATA CLEANING - DUPLICATE REMOVAL\n",
      "================================================================================\n",
      "\n",
      "Duplicates removed: 24,206\n",
      "New dataset size: 229,474\n"
     ]
    }
   ],
   "source": [
    "# ============================================================================\n",
    "# 3. DATA CLEANING - DUPLICATE REMOVAL\n",
    "# ============================================================================\n",
    "\n",
    "print(\"\\n\" + \"=\"*80)\n",
    "print(\"DATA CLEANING - DUPLICATE REMOVAL\")\n",
    "print(\"=\"*80)\n",
    "\n",
    "initial_len = len(df)\n",
    "df = df.drop_duplicates()\n",
    "duplicates_removed = initial_len - len(df)\n",
    "\n",
    "print(f\"\\nDuplicates removed: {duplicates_removed:,}\")\n",
    "print(f\"New dataset size: {len(df):,}\")"
   ]
  },
  {
   "cell_type": "markdown",
   "id": "d9c03f37",
   "metadata": {},
   "source": [
    "# Feature and Target Separation"
   ]
  },
  {
   "cell_type": "code",
   "execution_count": 14,
   "id": "ed477852",
   "metadata": {},
   "outputs": [
    {
     "name": "stdout",
     "output_type": "stream",
     "text": [
      "\n",
      "================================================================================\n",
      "SECTION 4: FEATURE AND TARGET SEPARATION\n",
      "================================================================================\n",
      "\n",
      "Features shape: (229474, 21)\n",
      "Target shape: (229474,)\n"
     ]
    }
   ],
   "source": [
    "# ============================================================================\n",
    "# 4. FEATURE AND TARGET SEPARATION\n",
    "# ============================================================================\n",
    "print(\"\\n\" + \"=\"*80)\n",
    "print(\"SECTION 4: FEATURE AND TARGET SEPARATION\")\n",
    "print(\"=\"*80)\n",
    "\n",
    "target = 'Diabetes_binary'\n",
    "y = df[target]\n",
    "X = df.drop(columns=[target])\n",
    "\n",
    "print(f\"\\nFeatures shape: {X.shape}\")\n",
    "print(f\"Target shape: {y.shape}\")\n"
   ]
  },
  {
   "cell_type": "markdown",
   "id": "d01ea996",
   "metadata": {},
   "source": [
    "# Feature Grouping"
   ]
  },
  {
   "cell_type": "code",
   "execution_count": 15,
   "id": "d3d4376d",
   "metadata": {},
   "outputs": [
    {
     "name": "stdout",
     "output_type": "stream",
     "text": [
      "\n",
      "================================================================================\n",
      "FEATURE GROUPING\n",
      "================================================================================\n",
      "\n",
      "Binary health features (13): ['HighBP', 'HighChol', 'CholCheck', 'Smoker', 'Stroke', 'HeartDiseaseorAttack', 'PhysActivity', 'Fruits', 'Veggies', 'HvyAlcoholConsump', 'AnyHealthcare', 'NoDocbcCost', 'DiffWalk']\n",
      "Ordinal features (4): ['GenHlth', 'Age', 'Education', 'Income']\n",
      "Continuous features (3): ['BMI', 'MentHlth', 'PhysHlth']\n",
      "Demographic features (4): ['Sex', 'Age', 'Education', 'Income']\n"
     ]
    }
   ],
   "source": [
    "# ============================================================================\n",
    "# 5. FEATURE GROUPING\n",
    "# ============================================================================\n",
    "print(\"\\n\" + \"=\"*80)\n",
    "print(\"FEATURE GROUPING\")\n",
    "print(\"=\"*80)\n",
    "\n",
    "binary_health = ['HighBP', 'HighChol', 'CholCheck', 'Smoker', 'Stroke', \n",
    "                 'HeartDiseaseorAttack', 'PhysActivity', 'Fruits', 'Veggies',\n",
    "                 'HvyAlcoholConsump', 'AnyHealthcare', 'NoDocbcCost', 'DiffWalk']\n",
    "ordinal = ['GenHlth', 'Age', 'Education', 'Income']\n",
    "continuous = ['BMI', 'MentHlth', 'PhysHlth']\n",
    "demographic = ['Sex', 'Age', 'Education', 'Income']\n",
    "\n",
    "print(f\"\\nBinary health features ({len(binary_health)}): {binary_health}\")\n",
    "print(f\"Ordinal features ({len(ordinal)}): {ordinal}\")\n",
    "print(f\"Continuous features ({len(continuous)}): {continuous}\")\n",
    "print(f\"Demographic features ({len(demographic)}): {demographic}\")"
   ]
  }
 ],
 "metadata": {
  "kernelspec": {
   "display_name": "dpp (3.12.11)",
   "language": "python",
   "name": "python3"
  },
  "language_info": {
   "codemirror_mode": {
    "name": "ipython",
    "version": 3
   },
   "file_extension": ".py",
   "mimetype": "text/x-python",
   "name": "python",
   "nbconvert_exporter": "python",
   "pygments_lexer": "ipython3",
   "version": "3.12.11"
  }
 },
 "nbformat": 4,
 "nbformat_minor": 5
}
